{
  "nbformat": 4,
  "nbformat_minor": 0,
  "metadata": {
    "colab": {
      "name": "day_2.ipynb",
      "provenance": [],
      "collapsed_sections": [],
      "toc_visible": true,
      "authorship_tag": "ABX9TyOC9kqX5orE5Fbdp1uNypfF",
      "include_colab_link": true
    },
    "kernelspec": {
      "name": "python3",
      "display_name": "Python 3"
    },
    "language_info": {
      "name": "python"
    }
  },
  "cells": [
    {
      "cell_type": "markdown",
      "metadata": {
        "id": "view-in-github",
        "colab_type": "text"
      },
      "source": [
        "<a href=\"https://colab.research.google.com/github/warp007x/day-2-ML/blob/main/day_2.ipynb\" target=\"_parent\"><img src=\"https://colab.research.google.com/assets/colab-badge.svg\" alt=\"Open In Colab\"/></a>"
      ]
    },
    {
      "cell_type": "markdown",
      "source": [
        "# defining an array with data"
      ],
      "metadata": {
        "id": "3gXCFy3Q9PBb"
      }
    },
    {
      "cell_type": "code",
      "execution_count": 1,
      "metadata": {
        "colab": {
          "base_uri": "https://localhost:8080/"
        },
        "id": "rea4Cni08Lpq",
        "outputId": "044df8ba-7ab9-4166-ed6c-bc0eb7c940a4"
      },
      "outputs": [
        {
          "output_type": "stream",
          "name": "stdout",
          "text": [
            "[[10  2  3]\n",
            " [23 45 67]]\n"
          ]
        }
      ],
      "source": [
        "import numpy as np\n",
        "arr1 = np.empty((2,3))\n",
        "\n",
        "arr2 = np.array([[10,2,3], [23,45,67]])\n",
        "print(arr2)\n",
        "\n"
      ]
    },
    {
      "cell_type": "code",
      "source": [
        "var3= np.empty((2,3),dtype=np.int)\n",
        "var3[0][0]=5.8\n",
        "var3[0][1]=2\n",
        "var3[1][0]=56.4\n",
        "var3[1][1]=200\n",
        "\n",
        "print(var3) \n"
      ],
      "metadata": {
        "colab": {
          "base_uri": "https://localhost:8080/"
        },
        "id": "WcGmto_s-2tO",
        "outputId": "49975d8e-16fd-40b7-a0f8-8369b25e4dbd"
      },
      "execution_count": 2,
      "outputs": [
        {
          "output_type": "stream",
          "name": "stdout",
          "text": [
            "[[  5   2   0]\n",
            " [ 56 200   0]]\n"
          ]
        },
        {
          "output_type": "stream",
          "name": "stderr",
          "text": [
            "/usr/local/lib/python3.7/dist-packages/ipykernel_launcher.py:1: DeprecationWarning: `np.int` is a deprecated alias for the builtin `int`. To silence this warning, use `int` by itself. Doing this will not modify any behavior and is safe. When replacing `np.int`, you may wish to use e.g. `np.int64` or `np.int32` to specify the precision. If you wish to review your current use, check the release note link for additional information.\n",
            "Deprecated in NumPy 1.20; for more details and guidance: https://numpy.org/devdocs/release/1.20.0-notes.html#deprecations\n",
            "  \"\"\"Entry point for launching an IPython kernel.\n"
          ]
        }
      ]
    },
    {
      "cell_type": "markdown",
      "source": [
        ""
      ],
      "metadata": {
        "id": "xysKWfip9MvL"
      }
    },
    {
      "cell_type": "code",
      "source": [
        "var3= np.empty((2,3),dtype=int)\n",
        "var3[0][0]=5.8\n",
        "var3[0][1]=2\n",
        "var3[1][0]=56.4\n",
        "var3[1][1]=200\n",
        "\n",
        "print(var3) \n"
      ],
      "metadata": {
        "colab": {
          "base_uri": "https://localhost:8080/"
        },
        "id": "KlnAKciUAS5s",
        "outputId": "b46de661-13d8-486c-fbdb-052a7a7e0ef0"
      },
      "execution_count": 3,
      "outputs": [
        {
          "output_type": "stream",
          "name": "stdout",
          "text": [
            "[[  5   2   0]\n",
            " [ 56 200   0]]\n"
          ]
        }
      ]
    },
    {
      "cell_type": "markdown",
      "source": [
        "## defing 2-d array"
      ],
      "metadata": {
        "id": "gUu1vIX8Aw-2"
      }
    },
    {
      "cell_type": "code",
      "source": [
        "var2=np.array([[10,2,3], [23,45,67],[1,2,3]])\n",
        "print(var2)"
      ],
      "metadata": {
        "colab": {
          "base_uri": "https://localhost:8080/"
        },
        "id": "GdjXU8rFA28t",
        "outputId": "77a400df-98ed-4e10-e6d3-f15b42e8c7c4"
      },
      "execution_count": 4,
      "outputs": [
        {
          "output_type": "stream",
          "name": "stdout",
          "text": [
            "[[10  2  3]\n",
            " [23 45 67]\n",
            " [ 1  2  3]]\n"
          ]
        }
      ]
    },
    {
      "cell_type": "markdown",
      "source": [
        "# concatinate 2 arrays"
      ],
      "metadata": {
        "id": "jQns9_JUBVDq"
      }
    },
    {
      "cell_type": "markdown",
      "source": [
        "### axis=0 => add vertically(rowwise addition)"
      ],
      "metadata": {
        "id": "L2xvjBQuB6XB"
      }
    },
    {
      "cell_type": "code",
      "source": [
        "arr_concat= np.concatenate((var2, var3), axis=0)\n",
        "print(arr_concat)"
      ],
      "metadata": {
        "colab": {
          "base_uri": "https://localhost:8080/"
        },
        "id": "I5hxTbbLBbr7",
        "outputId": "bda4ce61-13e2-4cfd-b42b-89f4c2f9cb28"
      },
      "execution_count": 5,
      "outputs": [
        {
          "output_type": "stream",
          "name": "stdout",
          "text": [
            "[[ 10   2   3]\n",
            " [ 23  45  67]\n",
            " [  1   2   3]\n",
            " [  5   2   0]\n",
            " [ 56 200   0]]\n"
          ]
        }
      ]
    },
    {
      "cell_type": "markdown",
      "source": [
        "### axis=1 => add horizontally(coloumnwise addition)"
      ],
      "metadata": {
        "id": "QYgHBnCqCt5l"
      }
    },
    {
      "cell_type": "code",
      "source": [
        "ar1= np.array([[1,2,2],[1,3,4],[2,4,6],[2,3,4]])\n",
        "ar2= np.array([[1,2,2],[1,3,4],[2,4,6]])\n",
        "ar3= np.array([[1,2],[1,4],[2,6]])\n",
        "ar4= np.array([[1,2,2],[1,3,4],[2,4,6]])\n",
        "print(ar1.shape)\n",
        "print(ar2.shape)\n",
        "print(ar3.shape)\n",
        "print(ar4.shape)\n",
        "arr_concat1= np.concatenate((ar1, ar2), axis=0)\n",
        "arr_concat2= np.concatenate((ar3, ar4), axis=1)\n",
        "print(arr_concat2)\n",
        "\n",
        "\n"
      ],
      "metadata": {
        "colab": {
          "base_uri": "https://localhost:8080/"
        },
        "id": "1DoZA63kCXUI",
        "outputId": "7017be76-0501-41d1-9db3-39efbafeb162"
      },
      "execution_count": 6,
      "outputs": [
        {
          "output_type": "stream",
          "name": "stdout",
          "text": [
            "(4, 3)\n",
            "(3, 3)\n",
            "(3, 2)\n",
            "(3, 3)\n",
            "[[1 2 1 2 2]\n",
            " [1 4 1 3 4]\n",
            " [2 6 2 4 6]]\n"
          ]
        }
      ]
    },
    {
      "cell_type": "markdown",
      "source": [
        ""
      ],
      "metadata": {
        "id": "ahLzGwMV8Yt2"
      }
    },
    {
      "cell_type": "markdown",
      "source": [
        "## Reshaping an Array"
      ],
      "metadata": {
        "id": "ns460UH3qt30"
      }
    },
    {
      "cell_type": "code",
      "source": [
        "print(ar1)\n",
        "ar5=np.reshape(ar1,(3,4))\n",
        "print(\"\\n\",ar5)\n"
      ],
      "metadata": {
        "colab": {
          "base_uri": "https://localhost:8080/"
        },
        "id": "UZEjoc4aumTI",
        "outputId": "b7729172-cf22-4ed3-9fdc-b112bfc646f6"
      },
      "execution_count": 7,
      "outputs": [
        {
          "output_type": "stream",
          "name": "stdout",
          "text": [
            "[[1 2 2]\n",
            " [1 3 4]\n",
            " [2 4 6]\n",
            " [2 3 4]]\n",
            "\n",
            " [[1 2 2 1]\n",
            " [3 4 2 4]\n",
            " [6 2 3 4]]\n"
          ]
        }
      ]
    },
    {
      "cell_type": "markdown",
      "source": [
        "- transpose of a matrix\n",
        "- generating zero mareix\n",
        "- generating one matrix "
      ],
      "metadata": {
        "id": "D0e4y_4zU1-l"
      }
    },
    {
      "cell_type": "code",
      "source": [
        "print(np.transpose(ar2))\n",
        "print(\"\\n\",np.zeros((3,3),dtype=int))\n",
        "print(\"\\n\",np.ones((3,3),dtype=int))"
      ],
      "metadata": {
        "colab": {
          "base_uri": "https://localhost:8080/"
        },
        "id": "hJXSMr2_WrIp",
        "outputId": "456207df-0733-4e30-c332-3eddcfde2d51"
      },
      "execution_count": 8,
      "outputs": [
        {
          "output_type": "stream",
          "name": "stdout",
          "text": [
            "[[1 1 2]\n",
            " [2 3 4]\n",
            " [2 4 6]]\n",
            "\n",
            " [[0 0 0]\n",
            " [0 0 0]\n",
            " [0 0 0]]\n",
            "\n",
            " [[1 1 1]\n",
            " [1 1 1]\n",
            " [1 1 1]]\n"
          ]
        }
      ]
    },
    {
      "cell_type": "code",
      "source": [
        "print(\"\\n\",ar2[[1,2],0])\n",
        "print(\"\\n\",ar2[:,0])"
      ],
      "metadata": {
        "colab": {
          "base_uri": "https://localhost:8080/"
        },
        "id": "UTbtgAr-aDHp",
        "outputId": "ec973835-cb81-401c-f937-295ce7193d2e"
      },
      "execution_count": 9,
      "outputs": [
        {
          "output_type": "stream",
          "name": "stdout",
          "text": [
            "\n",
            " [1 2]\n",
            "\n",
            " [1 1 2]\n"
          ]
        }
      ]
    }
  ]
}